{
  "nbformat": 4,
  "nbformat_minor": 0,
  "metadata": {
    "colab": {
      "name": "Calculadora.ipynb",
      "provenance": [],
      "authorship_tag": "ABX9TyO39qty3J9piJ40iSVCGlXO",
      "include_colab_link": true
    },
    "kernelspec": {
      "name": "python3",
      "display_name": "Python 3"
    }
  },
  "cells": [
    {
      "cell_type": "markdown",
      "metadata": {
        "id": "view-in-github",
        "colab_type": "text"
      },
      "source": [
        "<a href=\"https://colab.research.google.com/github/matheuspassini/calculadora_Python/blob/main/Calculadora.ipynb\" target=\"_parent\"><img src=\"https://colab.research.google.com/assets/colab-badge.svg\" alt=\"Open In Colab\"/></a>"
      ]
    },
    {
      "cell_type": "code",
      "metadata": {
        "id": "Fc0Upn8aLpIj"
      },
      "source": [
        "# Calculadora em Python\n",
        "\n",
        "\n",
        "print(\"\\n******************* Calculadora em Linguagem de Programação Python / Python Calculator*******************\")       \n",
        "\n",
        "def somou(dig_1,dig_2):\n",
        "    return dig_1 + dig_2 \n",
        "        \n",
        "def menos(dig_1,dig_2):\n",
        "    return dig_1 - dig_2\n",
        "        \n",
        "def vezes(dig_1,dig_2):\n",
        "    return dig_1 * dig_2\n",
        "        \n",
        "def div(dig_1,dig_2):\n",
        "    return dig_1 / dig_2\n",
        "        \n",
        "def pot(dig1,dig2):\n",
        "    return dig_1 ** dig_2\n",
        "\n",
        "def entrada():\n",
        "  a = input(\"\\n Selecione a operação: (1/2/3/4/5): \")\n",
        "  if a == '1' or a=='2' or a=='3' or a=='4' or a =='5':\n",
        "    dig_1 = int(input(\"\\n Digite o primeiro número: \"))\n",
        "    dig_2 = int(input(\"\\n Digite o segundo número: \"))\n",
        "    return comparacao(a,dig_1,dig_2)\n",
        "\n",
        "  else:\n",
        "    return erro()\n",
        "\n",
        "def erro():\n",
        "  print(\"Dígito incorreto\")\n",
        "  return entrada()\n",
        "\n",
        "def comparacao(a,dig_1, dig_2):\n",
        "  if a=='1':\n",
        "    print(\" dig1 + dig 2 = \")\n",
        "    return somou(dig_1,dig_2)\n",
        "\n",
        "  elif a=='2':\n",
        "    print(\" dig1 - dig 2 = \")\n",
        "    return menos(dig_1,dig_2)\n",
        "\n",
        "  elif a=='3':\n",
        "    print(\" dig1 * dig 2 = \")\n",
        "    return vezes(dig_1,dig_2)\n",
        "\n",
        "  elif a=='4':\n",
        "    print(\" dig1 / dig 2 = \")\n",
        "    return div(dig_1,dig_2)\n",
        "\n",
        "  elif a=='5':\n",
        "    print(\" dig1 ^ dig 2 = \")\n",
        "    return pot(dig1,dig2)\n",
        "\n",
        "\n",
        "print(\"\\n As operações matemáticas do programa são:\")\n",
        "\n",
        "print(\"\\n 1 - SOMA / 2 - Subtração / 3 - Multiplicação / 4 - Divisão / 5 - Potência\")\n",
        "\n",
        "\n",
        "entrada()\n",
        "\n",
        "\n",
        "\n",
        "              \n",
        "    \n",
        "\n",
        "\n",
        "\n",
        "          \n",
        "        \n",
        "      "
      ],
      "execution_count": null,
      "outputs": []
    }
  ]
}